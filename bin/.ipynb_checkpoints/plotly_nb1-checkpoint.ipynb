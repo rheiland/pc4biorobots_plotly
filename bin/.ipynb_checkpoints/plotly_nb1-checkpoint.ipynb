{
 "cells": [
  {
   "cell_type": "code",
   "execution_count": 3,
   "metadata": {},
   "outputs": [
    {
     "data": {
      "application/vnd.jupyter.widget-view+json": {
       "model_id": "fc2f57e04dac453a94312cbaff39d143",
       "version_major": 2,
       "version_minor": 0
      },
      "text/plain": [
       "VBox(children=(FigureWidget({\n",
       "    'data': [{'contours': {'coloring': 'heatmap'},\n",
       "              'type': 'histog…"
      ]
     },
     "metadata": {},
     "output_type": "display_data"
    }
   ],
   "source": [
    "from ipywidgets import VBox\n",
    "import numpy as np\n",
    "\n",
    "import plotly\n",
    "import plotly.graph_objects as go\n",
    "# import plotly.plotly as py\n",
    "import plotly.graph_objs as go\n",
    "#from plotly.widgets import GraphWidget\n",
    "from IPython.display import display, clear_output, Image\n",
    "# The old way to use plotly in Jupyter is to use iplot\n",
    "# either online (if you have an account) or offline\n",
    "from plotly.offline import iplot\n",
    "\n",
    "\n",
    "x = np.random.randn(2000)\n",
    "y = np.random.randn(2000)\n",
    "# iplot([go.Histogram2dContour(x=x, y=y, contours=dict(coloring='heatmap')),\n",
    "fig = go.FigureWidget(data=go.Histogram2dContour(x=x, y=y, contours=dict(coloring='heatmap')))\n",
    "\n",
    "VBox([fig])"
   ]
  },
  {
   "cell_type": "code",
   "execution_count": null,
   "metadata": {},
   "outputs": [],
   "source": []
  }
 ],
 "metadata": {
  "kernelspec": {
   "display_name": "Python 3",
   "language": "python",
   "name": "python3"
  },
  "language_info": {
   "codemirror_mode": {
    "name": "ipython",
    "version": 3
   },
   "file_extension": ".py",
   "mimetype": "text/x-python",
   "name": "python",
   "nbconvert_exporter": "python",
   "pygments_lexer": "ipython3",
   "version": "3.7.4"
  }
 },
 "nbformat": 4,
 "nbformat_minor": 2
}
