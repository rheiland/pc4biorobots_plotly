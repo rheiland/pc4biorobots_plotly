{
 "cells": [
  {
   "cell_type": "code",
   "execution_count": 4,
   "metadata": {},
   "outputs": [
    {
     "data": {
      "application/vnd.jupyter.widget-view+json": {
       "model_id": "976330da22a843f69b1f3d639ac0cf83",
       "version_major": 2,
       "version_minor": 0
      },
      "text/plain": [
       "VBox(children=(IntSlider(value=0), FigureWidget({\n",
       "    'data': [{'contours': {'coloring': 'none'},\n",
       "            …"
      ]
     },
     "metadata": {},
     "output_type": "display_data"
    }
   ],
   "source": [
    "from ipywidgets import IntSlider, VBox\n",
    "import numpy as np\n",
    "import plotly.graph_objects as go\n",
    "x = np.random.randn(8)\n",
    "y = np.random.randn(8)\n",
    "fig = go.FigureWidget(data=go.Histogram2dContour(x=x, y=y, contours=dict(coloring='none')))\n",
    "islide = IntSlider()\n",
    "def on_value_change(change):\n",
    "    global x,y,fig\n",
    "    ival = change['new']\n",
    "    x = np.random.randn(ival)\n",
    "    y = np.random.randn(ival)\n",
    "    fig = go.FigureWidget(data=go.Histogram2dContour(x=x, y=y, contours=dict(coloring='heatmap')))\n",
    "\n",
    "islide.observe(on_value_change, names='value')\n",
    "VBox([islide,fig])"
   ]
  },
  {
   "cell_type": "code",
   "execution_count": null,
   "metadata": {},
   "outputs": [],
   "source": []
  }
 ],
 "metadata": {
  "kernelspec": {
   "display_name": "Python 3",
   "language": "python",
   "name": "python3"
  },
  "language_info": {
   "codemirror_mode": {
    "name": "ipython",
    "version": 3
   },
   "file_extension": ".py",
   "mimetype": "text/x-python",
   "name": "python",
   "nbconvert_exporter": "python",
   "pygments_lexer": "ipython3",
   "version": "3.7.4"
  }
 },
 "nbformat": 4,
 "nbformat_minor": 2
}
