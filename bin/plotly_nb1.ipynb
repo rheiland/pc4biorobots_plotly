{
 "cells": [
  {
   "cell_type": "code",
   "execution_count": 28,
   "metadata": {},
   "outputs": [
    {
     "data": {
      "application/vnd.jupyter.widget-view+json": {
       "model_id": "a2d7944fbbbe4a83b65b3b8b13bb12d7",
       "version_major": 2,
       "version_minor": 0
      },
      "text/plain": [
       "VBox(children=(IntSlider(value=0), FigureWidget({\n",
       "    'data': [{'contours': {'coloring': 'heatmap'},\n",
       "         …"
      ]
     },
     "metadata": {},
     "output_type": "display_data"
    }
   ],
   "source": [
    "from ipywidgets import VBox, IntSlider, Output\n",
    "import numpy as np\n",
    "\n",
    "# import plotly\n",
    "import plotly.graph_objects as go\n",
    "# import plotly.plotly as py\n",
    "# import plotly.graph_objs as go\n",
    "#from plotly.widgets import GraphWidget\n",
    "# from IPython.display import display, clear_output, Image\n",
    "# The old way to use plotly in Jupyter is to use iplot\n",
    "# either online (if you have an account) or offline\n",
    "# from plotly.offline import iplot\n",
    "\n",
    "    \n",
    "x = np.random.randn(8)\n",
    "y = np.random.randn(8)\n",
    "# iplot([go.Histogram2dContour(x=x, y=y, contours=dict(coloring='heatmap')),\n",
    "fig = go.FigureWidget(data=go.Histogram2dContour(x=x, y=y, contours=dict(coloring='heatmap')))\n",
    "# fig.update_layout(\n",
    "#                 autosize=True,\n",
    "#                 width= 600,\n",
    "#                 height=600,\n",
    "# )\n",
    "\n",
    "islide = IntSlider()\n",
    "# output2 = Output()\n",
    "\n",
    "\n",
    "def on_value_change(change):\n",
    "    global x,y,fig\n",
    "#     print(type(change['new']), change['new'])\n",
    "    ival = change['new']\n",
    "    x = np.random.randn(ival)\n",
    "    y = np.random.randn(ival)\n",
    "    fig = go.FigureWidget(data=go.Histogram2dContour(x=x, y=y, contours=dict(coloring='heatmap')))\n",
    "\n",
    "\n",
    "#     with output2:\n",
    "#         print(change['new'])\n",
    "\n",
    "islide.observe(on_value_change, names='value')\n",
    "\n",
    "# def redo_plot(b):\n",
    "#     if b.\n",
    "#     print(islide.value)\n",
    "    \n",
    "# islide.observe(redo_plot)\n",
    "\n",
    "# VBox([islide,output2,fig])\n",
    "VBox([islide,fig])"
   ]
  },
  {
   "cell_type": "code",
   "execution_count": null,
   "metadata": {},
   "outputs": [],
   "source": []
  }
 ],
 "metadata": {
  "kernelspec": {
   "display_name": "Python 3",
   "language": "python",
   "name": "python3"
  },
  "language_info": {
   "codemirror_mode": {
    "name": "ipython",
    "version": 3
   },
   "file_extension": ".py",
   "mimetype": "text/x-python",
   "name": "python",
   "nbconvert_exporter": "python",
   "pygments_lexer": "ipython3",
   "version": "3.7.4"
  }
 },
 "nbformat": 4,
 "nbformat_minor": 2
}
